{
 "cells": [
  {
   "cell_type": "code",
   "execution_count": 1,
   "metadata": {
    "_cell_guid": "79c7e3d0-c299-4dcb-8224-4455121ee9b0",
    "_uuid": "d629ff2d2480ee46fbb7e2d37f6b5fab8052498a"
   },
   "outputs": [],
   "source": [
    "import pandas as pd\n",
    "import tensorflow as tf\n",
    "from tensorflow import keras\n",
    "import numpy as np"
   ]
  },
  {
   "cell_type": "code",
   "execution_count": 2,
   "metadata": {},
   "outputs": [],
   "source": [
    "import os\n",
    "for dirname, _, filenames in os.walk('data'):\n",
    "    for filename in filenames: \n",
    "        if filename == 'True.csv':\n",
    "            true_news = pd.read_csv(os.path.join(dirname, filename))\n",
    "        else:\n",
    "            fake_news = pd.read_csv(os.path.join(dirname, filename))"
   ]
  },
  {
   "cell_type": "code",
   "execution_count": 3,
   "metadata": {},
   "outputs": [
    {
     "name": "stdout",
     "output_type": "stream",
     "text": [
      " --- Real News --- \n",
      "                                               title  \\\n",
      "0  As U.S. budget fight looms, Republicans flip t...   \n",
      "1  U.S. military to accept transgender recruits o...   \n",
      "2  Senior U.S. Republican senator: 'Let Mr. Muell...   \n",
      "3  FBI Russia probe helped by Australian diplomat...   \n",
      "4  Trump wants Postal Service to charge 'much mor...   \n",
      "\n",
      "                                                text       subject  \\\n",
      "0  WASHINGTON (Reuters) - The head of a conservat...  politicsNews   \n",
      "1  WASHINGTON (Reuters) - Transgender people will...  politicsNews   \n",
      "2  WASHINGTON (Reuters) - The special counsel inv...  politicsNews   \n",
      "3  WASHINGTON (Reuters) - Trump campaign adviser ...  politicsNews   \n",
      "4  SEATTLE/WASHINGTON (Reuters) - President Donal...  politicsNews   \n",
      "\n",
      "                 date  \n",
      "0  December 31, 2017   \n",
      "1  December 29, 2017   \n",
      "2  December 31, 2017   \n",
      "3  December 30, 2017   \n",
      "4  December 29, 2017   \n",
      " --- Fake News --- \n",
      "                                               title  \\\n",
      "0   Donald Trump Sends Out Embarrassing New Year’...   \n",
      "1   Drunk Bragging Trump Staffer Started Russian ...   \n",
      "2   Sheriff David Clarke Becomes An Internet Joke...   \n",
      "3   Trump Is So Obsessed He Even Has Obama’s Name...   \n",
      "4   Pope Francis Just Called Out Donald Trump Dur...   \n",
      "\n",
      "                                                text subject  \\\n",
      "0  Donald Trump just couldn t wish all Americans ...    News   \n",
      "1  House Intelligence Committee Chairman Devin Nu...    News   \n",
      "2  On Friday, it was revealed that former Milwauk...    News   \n",
      "3  On Christmas day, Donald Trump announced that ...    News   \n",
      "4  Pope Francis used his annual Christmas Day mes...    News   \n",
      "\n",
      "                date  \n",
      "0  December 31, 2017  \n",
      "1  December 31, 2017  \n",
      "2  December 30, 2017  \n",
      "3  December 29, 2017  \n",
      "4  December 25, 2017  \n"
     ]
    }
   ],
   "source": [
    "print(' --- Real News --- ')\n",
    "print(true_news.head(5))\n",
    "print(' --- Fake News --- ')\n",
    "print(fake_news.head(5))"
   ]
  },
  {
   "cell_type": "code",
   "execution_count": 5,
   "metadata": {},
   "outputs": [
    {
     "name": "stdout",
     "output_type": "stream",
     "text": [
      "                                               title  \\\n",
      "0  As U.S. budget fight looms, Republicans flip t...   \n",
      "1  U.S. military to accept transgender recruits o...   \n",
      "2  Senior U.S. Republican senator: 'Let Mr. Muell...   \n",
      "\n",
      "                                                text       subject  \\\n",
      "0  WASHINGTON (Reuters) - The head of a conservat...  politicsNews   \n",
      "1  WASHINGTON (Reuters) - Transgender people will...  politicsNews   \n",
      "2  WASHINGTON (Reuters) - The special counsel inv...  politicsNews   \n",
      "\n",
      "                 date  truth  \n",
      "0  December 31, 2017       1  \n",
      "1  December 29, 2017       1  \n",
      "2  December 31, 2017       1  \n",
      "                                               title  \\\n",
      "0   Donald Trump Sends Out Embarrassing New Year’...   \n",
      "1   Drunk Bragging Trump Staffer Started Russian ...   \n",
      "2   Sheriff David Clarke Becomes An Internet Joke...   \n",
      "\n",
      "                                                text subject  \\\n",
      "0  Donald Trump just couldn t wish all Americans ...    News   \n",
      "1  House Intelligence Committee Chairman Devin Nu...    News   \n",
      "2  On Friday, it was revealed that former Milwauk...    News   \n",
      "\n",
      "                date  truth  \n",
      "0  December 31, 2017      0  \n",
      "1  December 31, 2017      0  \n",
      "2  December 30, 2017      0  \n"
     ]
    }
   ],
   "source": [
    "# Let's indicate true news as 1 and fake news as 0\n",
    "true_news['truth'] = len(true_news) * [1]\n",
    "fake_news['truth'] = len(fake_news) * [0]\n",
    "print(true_news.head(3))\n",
    "print(fake_news.head(3))"
   ]
  },
  {
   "cell_type": "code",
   "execution_count": 6,
   "metadata": {},
   "outputs": [
    {
     "name": "stdout",
     "output_type": "stream",
     "text": [
      "                                               title  \\\n",
      "0  THREATS TO BUSINESS TO REMOVE TRUMP SIGN Promp...   \n",
      "1  THE 1 PERCENTER BABY: Chelsea’s Daughter Is Cl...   \n",
      "2  U.N. ends month-long Libya talks in Tunisia wi...   \n",
      "3   Conservative Indiana Governor’s Stupid Respon...   \n",
      "4  Several senior State Department officials leav...   \n",
      "\n",
      "                                                text       subject  \\\n",
      "0  Please go to the BEST MULCH Facebook page and ...     left-news   \n",
      "1  But then again, with all of the cash flowing i...      politics   \n",
      "2  TUNIS (Reuters) - Month-long U.N.-backed talks...     worldnews   \n",
      "3  Indiana Governor Mike Pence is at the center o...          News   \n",
      "4  WASHINGTON (Reuters) - The Trump administratio...  politicsNews   \n",
      "\n",
      "                date  truth  \n",
      "0        Nov 1, 2016      0  \n",
      "1        Jun 3, 2015      0  \n",
      "2  October 21, 2017       1  \n",
      "3  February 12, 2016      0  \n",
      "4  January 26, 2017       1  \n"
     ]
    }
   ],
   "source": [
    "# Let's concatenate the two and prepare to shuffle up the data\n",
    "all_news = pd.concat([true_news, fake_news], ignore_index=True) # ignore index to reset the indices\n",
    "\n",
    "# Shuffle\n",
    "all_news = all_news.sample(frac=1).reset_index(drop=True)\n",
    "\n",
    "print(all_news.head(5))"
   ]
  },
  {
   "cell_type": "code",
   "execution_count": 7,
   "metadata": {},
   "outputs": [
    {
     "name": "stdout",
     "output_type": "stream",
     "text": [
      "                                               title  \\\n",
      "0  THREATS TO BUSINESS TO REMOVE TRUMP SIGN Promp...   \n",
      "1  THE 1 PERCENTER BABY: Chelsea’s Daughter Is Cl...   \n",
      "2  U.N. ends month-long Libya talks in Tunisia wi...   \n",
      "3   Conservative Indiana Governor’s Stupid Respon...   \n",
      "4  Several senior State Department officials leav...   \n",
      "\n",
      "                                                text  truth  \n",
      "0  Please go to the BEST MULCH Facebook page and ...      0  \n",
      "1  But then again, with all of the cash flowing i...      0  \n",
      "2  TUNIS (Reuters) - Month-long U.N.-backed talks...      1  \n",
      "3  Indiana Governor Mike Pence is at the center o...      0  \n",
      "4  WASHINGTON (Reuters) - The Trump administratio...      1  \n"
     ]
    }
   ],
   "source": [
    "# Let's only keep title, text, and truth for now\n",
    "all_news = all_news.drop(['date'], axis=1)\n",
    "all_news = all_news.drop(['subject'], axis=1)\n",
    "print(all_news.head(5))"
   ]
  },
  {
   "cell_type": "code",
   "execution_count": 8,
   "metadata": {},
   "outputs": [
    {
     "name": "stdout",
     "output_type": "stream",
     "text": [
      "138021\n"
     ]
    }
   ],
   "source": [
    "# In this case, let's tokenize and then split\n",
    "# First, let's find how big the vocabulary is without truncating\n",
    "from tensorflow.keras.preprocessing.text import Tokenizer\n",
    "from tensorflow.keras.preprocessing.sequence import pad_sequences\n",
    "\n",
    "tokenizer = Tokenizer()\n",
    "tokenizer.fit_on_texts(all_news['text']) # tokenizing just on text should be fine\n",
    "word_index = tokenizer.word_index\n",
    "print(len(word_index))\n"
   ]
  },
  {
   "cell_type": "code",
   "execution_count": 9,
   "metadata": {},
   "outputs": [],
   "source": [
    "# 138021 in total\n",
    "del(tokenizer)"
   ]
  },
  {
   "cell_type": "code",
   "execution_count": 10,
   "metadata": {},
   "outputs": [
    {
     "name": "stdout",
     "output_type": "stream",
     "text": [
      "Length of training data: 28734\n",
      "Length of validation data: 7184\n",
      "Length of test data: 8980\n",
      "Length of all news: 44898\n"
     ]
    }
   ],
   "source": [
    "# Great, now let's do two splits on this dataset: one between train/validation and test,\n",
    "# and another between train and validation\n",
    "test_breakpoint = int(0.8 * len(all_news))\n",
    "train_val_data = all_news[:test_breakpoint]\n",
    "test_data = all_news[test_breakpoint:]\n",
    "\n",
    "val_breakpoint = int(0.8 * len(train_val_data))\n",
    "train_data = train_val_data[:val_breakpoint]\n",
    "val_data = train_val_data[val_breakpoint:]\n",
    "\n",
    "print(f'Length of training data: {len(train_data)}')\n",
    "print(f'Length of validation data: {len(val_data)}')\n",
    "print(f'Length of test data: {len(test_data)}')\n",
    "print(f'Length of all news: {len(all_news)}')\n",
    "# Numbers add up!"
   ]
  },
  {
   "cell_type": "code",
   "execution_count": 18,
   "metadata": {},
   "outputs": [
    {
     "name": "stdout",
     "output_type": "stream",
     "text": [
      "0    Please go to the BEST MULCH Facebook page and ...\n",
      "1    But then again, with all of the cash flowing i...\n",
      "Name: text, dtype: object\n",
      "[[ 1529   216     3     2   549     1   566   904     6   424    94     5\n",
      "  10622    62  1755    43    56    11     2  3926   161    35    24  1398\n",
      "   4132  1529   884   359     3   418    21     6   176  3537    17   117\n",
      "     52    40    23    58    26 31050   427  7509  3165    34   107    44\n",
      "      2    16   954   899     7   635     4   181   287   580   272   837\n",
      "      4     2   954   115  2324    58   635    35   711     5  1685  1920\n",
      "     26     5  1816  1004   379    51    12  1617   116     2   229    34\n",
      "     40    25    23  8006    89  4141     2    16   954   900    96    15\n",
      "   4274   577   181   112    12    82    19   513    19   181   287    34\n",
      "     40  3833     8     2   954    18     3   731     6     3   314    11\n",
      "     55     3  1925    49  5425     2 14657    18    60  2385   231     3\n",
      "    137     2   954    50 19406     6   176    31   111    50  3892  1484\n",
      "     21   833 13575     3     2  1571]\n",
      " [   33   149   303    17    56     4     2  1737  8102    89     2    75\n",
      "  12901   985    26   179   280    68  9517   114    23    58     4  1377\n",
      "     11   102   373     4     2    75   804 10531  1461     5  8214    22\n",
      "    126   117    75   164   224     6   524    39    60   775     4   182\n",
      "     52   496     3   696   545    11   564  4678     5   182     7    51\n",
      "    273   123    40    24     2   244  3585    19  1481   260   265  5179\n",
      "     75 29175     7   117    75     9   160    11  1001   273 11371   944\n",
      "     40    23 44931     7     2     1     1    26     2 17259  4285  4142\n",
      "  29176     2   622  1920   450   108   105  1366  4094    75  8474   616\n",
      "    292  1404  7672  1241  2721 44932     7     5  7594  7306    28   227\n",
      "    459     9     1  5207     6  1389     8    14   638    55 13227  1366\n",
      "      5   529  4981   898   121    14  1147    51    52  1325    12   333\n",
      "     53     4     2   101  5241    14]]\n"
     ]
    }
   ],
   "source": [
    "# Let's tokenize\n",
    "vocab_size = 50000\n",
    "embedding_dim = 64\n",
    "max_length = 150\n",
    "max_length_title = 50\n",
    "trunc_type = 'post'\n",
    "padding_type = 'post'\n",
    "oov_tok = '<OOV>'\n",
    "\n",
    "# Separate train data\n",
    "train_text = train_data['text']\n",
    "train_titles = train_data['title']\n",
    "train_truth = train_data['truth']\n",
    "\n",
    "# Separate validation data\n",
    "val_text = val_data['text']\n",
    "val_titles = val_data['title']\n",
    "val_truth = val_data['truth']\n",
    "\n",
    "# Separate test data\n",
    "test_text = test_data['text']\n",
    "test_titles = test_data['title']\n",
    "test_truth = test_data['truth']\n",
    "\n",
    "# Get the vocabulary\n",
    "tokenizer = Tokenizer(num_words = vocab_size, oov_token = oov_tok)\n",
    "tokenizer.fit_on_texts(train_text)\n",
    "word_index = tokenizer.word_index\n",
    "\n",
    "# Tokenize the train texts\n",
    "train_text_sequences = tokenizer.texts_to_sequences(train_text)\n",
    "train_text_padded = np.array(pad_sequences(train_text_sequences, maxlen = max_length, \\\n",
    "                               padding=padding_type, truncating = trunc_type))\n",
    "\n",
    "# Tokenize the train titles, with lower max length\n",
    "train_titles_sequences = tokenizer.texts_to_sequences(train_titles)\n",
    "train_titles_padded = np.array(pad_sequences(train_text_sequences, maxlen = max_length_title, \\\n",
    "                               padding=padding_type, truncating = trunc_type))\n",
    "print(train_text[:2])\n",
    "print(train_text_padded[:2])"
   ]
  },
  {
   "cell_type": "code",
   "execution_count": 16,
   "metadata": {},
   "outputs": [
    {
     "name": "stdout",
     "output_type": "stream",
     "text": [
      "[[  698 35234     1 ...     0     0     0]\n",
      " [ 9783 10451  1658 ...     0     0     0]\n",
      " [   79  1012  1023 ...     0     0     0]\n",
      " ...\n",
      " [  108  4806  1710 ...     0     0     0]\n",
      " [  294  6189  3701 ...     0     0     0]\n",
      " [ 4350   209  2255 ...     0     0     0]]\n"
     ]
    }
   ],
   "source": [
    "# Tokenize validation texts and titles\n",
    "val_text_sequences = tokenizer.texts_to_sequences(val_text)\n",
    "val_text_padded = np.array(pad_sequences(val_text_sequences, maxlen = max_length, \\\n",
    "                               padding=padding_type, truncating = trunc_type))\n",
    "\n",
    "val_titles_sequences = tokenizer.texts_to_sequences(val_titles)\n",
    "val_titles_padded = np.array(pad_sequences(val_titles_sequences, maxlen = max_length_title, \\\n",
    "                               padding=padding_type, truncating = trunc_type))\n",
    "\n",
    "# Tokenize test texts and titles\n",
    "test_text_sequences = tokenizer.texts_to_sequences(test_text)\n",
    "test_text_padded = np.array(pad_sequences(test_text_sequences, maxlen = max_length, \\\n",
    "                               padding=padding_type, truncating = trunc_type))\n",
    "\n",
    "test_titles_sequences = tokenizer.texts_to_sequences(test_titles)\n",
    "test_titles_padded = np.array(pad_sequences(test_text_sequences, maxlen = max_length_title, \\\n",
    "                               padding=padding_type, truncating = trunc_type))"
   ]
  },
  {
   "cell_type": "code",
   "execution_count": 17,
   "metadata": {},
   "outputs": [
    {
     "name": "stdout",
     "output_type": "stream",
     "text": [
      "[  698 35234     1 16373   123  1212  2843  3094  6003   820     0     0\n",
      "     0     0     0     0     0     0     0     0     0     0     0     0\n",
      "     0     0     0     0     0     0     0     0     0     0     0     0\n",
      "     0     0     0     0     0     0     0     0     0     0     0     0\n",
      "     0     0]\n",
      "[ 3094  6003  1033   761 38039    12    31 30081     3     2   390 17471\n",
      "   101    85    10     2 11632 29564 19664  3644     6   727   357    10\n",
      " 22669     9    83  1097  1173     2 16373   123  1212     2   105  2360\n",
      "    12   359   110 17927  2214   714     3   514   478     6 17471     2\n",
      "  3372    51  6615     6 39925  1229     6     2  4933    21    51    32\n",
      "  2076     3  2815    94    47    69  1005    21 49865     8     2    97\n",
      "    29   728 28977   196  1229     3  4391     2   182     6  1459    56\n",
      "     2  2272   645   182     7     5   180  4898   250   634   196  1591\n",
      "     8    27  1541    86   549    23  5054    21     5   988  3930     4\n",
      "   481    88     3    53   201    21 13149     3     2  1234  1098     6\n",
      "    21   845  4312     3    53   201   196  1591     8    27  3930   114\n",
      "  3011    65  1541    21   988   132     6   392   959   545     2  4420\n",
      "     6    21     2   356     4  9189]\n",
      "[4054    7    3    2 4345  570 1099  894 2789   11  201  619 1849    4\n",
      "    2 2648  809 2234  563 2963 2605 6293  390 2963 2605 8477  568 2963\n",
      " 2605 3873   11   27  529 1849 1227  113   11 6353 6619  643 1099 5541\n",
      "  126   11 2571 2765 6714 5000 6715 6778]\n",
      "[ 4054     7     3     2  4345   570  1099   894  2789    11   201   619\n",
      "  1849     4     2  2648   809  2234   563  2963  2605  6293   390  2963\n",
      "  2605  8477   568  2963  2605  3873    11    27   529  1849  1227   113\n",
      "    11  6353  6619   643  1099  5541   126    11  2571  2765  6714  5000\n",
      "  6715  6778   626  3441  6742   122  6243  6743   132  3695     6  1946\n",
      "  6716  6779  1227  2789  2752  6211     6  6717   531    17  5042  8010\n",
      "     6  3094  6003     4 11933  1604    63    17     5   529   274    26\n",
      " 18192  1155  2789  4617    11     2  3658     6 32292  2768     4  2648\n",
      "   809   926    15    62  4054     7     6  4944    17     2  2789  2814\n",
      "  1380    11    27   591  8657  9248     6  1604     6     2  2570 10740\n",
      "     4     2  5959     4     2   132  3695     7     2   339  2816  2026\n",
      "    27   159    10     2   245    35   147  2524     5 16436     4  1070\n",
      "     6 41359 18031    62    21     2]\n"
     ]
    }
   ],
   "source": [
    "print(val_titles_padded[0])\n",
    "print(val_text_padded[0])\n",
    "print(test_titles_padded[0])\n",
    "print(test_text_padded[0])"
   ]
  },
  {
   "cell_type": "code",
   "execution_count": 19,
   "metadata": {},
   "outputs": [
    {
     "name": "stdout",
     "output_type": "stream",
     "text": [
      "Model: \"sequential\"\n",
      "_________________________________________________________________\n",
      "Layer (type)                 Output Shape              Param #   \n",
      "=================================================================\n",
      "embedding (Embedding)        (None, 150, 64)           3200000   \n",
      "_________________________________________________________________\n",
      "bidirectional (Bidirectional (None, 64)                24832     \n",
      "_________________________________________________________________\n",
      "dense (Dense)                (None, 1)                 65        \n",
      "=================================================================\n",
      "Total params: 3,224,897\n",
      "Trainable params: 3,224,897\n",
      "Non-trainable params: 0\n",
      "_________________________________________________________________\n"
     ]
    }
   ],
   "source": [
    "# We're all set! Let's make the model\n",
    "import tensorflow.keras.layers as layers\n",
    "model = tf.keras.Sequential([\n",
    "    layers.Embedding(vocab_size, embedding_dim, input_length=max_length), # hyperparameters set above\n",
    "    #layers.GlobalAveragePooling1D(),\n",
    "    #layers.Dropout(0.5),\n",
    "    layers.Bidirectional(layers.LSTM(32, activation='relu')),\n",
    "    #layers.Dropout(0.5),\n",
    "    layers.Dense(1, activation='sigmoid')\n",
    "])\n",
    "model.compile(loss='binary_crossentropy', optimizer='adam', metrics=['accuracy'])\n",
    "model.summary()"
   ]
  },
  {
   "cell_type": "code",
   "execution_count": 21,
   "metadata": {},
   "outputs": [
    {
     "name": "stdout",
     "output_type": "stream",
     "text": [
      "Epoch 1/10\n",
      "898/898 - 70s - loss: 368767.2188 - accuracy: 0.9335 - val_loss: 0.7534 - val_accuracy: 0.8342\n",
      "Epoch 2/10\n",
      "898/898 - 78s - loss: 0.5042 - accuracy: 0.9511 - val_loss: 0.7601 - val_accuracy: 0.9315\n",
      "Epoch 3/10\n",
      "898/898 - 69s - loss: 0.4339 - accuracy: 0.9620 - val_loss: 0.7710 - val_accuracy: 0.9286\n",
      "Epoch 4/10\n",
      "898/898 - 69s - loss: 0.2922 - accuracy: 0.9652 - val_loss: 0.8138 - val_accuracy: 0.9258\n",
      "Epoch 5/10\n",
      "898/898 - 69s - loss: 0.2800 - accuracy: 0.9665 - val_loss: 0.6988 - val_accuracy: 0.9264\n",
      "Epoch 6/10\n",
      "898/898 - 69s - loss: 0.2232 - accuracy: 0.9680 - val_loss: 0.6260 - val_accuracy: 0.9264\n",
      "Epoch 7/10\n",
      "898/898 - 69s - loss: 0.2036 - accuracy: 0.9697 - val_loss: 0.5845 - val_accuracy: 0.9258\n",
      "Epoch 8/10\n",
      "898/898 - 69s - loss: 0.1615 - accuracy: 0.9717 - val_loss: 0.5029 - val_accuracy: 0.9255\n",
      "Epoch 9/10\n",
      "898/898 - 69s - loss: 0.1420 - accuracy: 0.9730 - val_loss: 0.4223 - val_accuracy: 0.9257\n",
      "Epoch 10/10\n",
      "898/898 - 70s - loss: 0.1151 - accuracy: 0.9734 - val_loss: 0.4166 - val_accuracy: 0.9261\n"
     ]
    }
   ],
   "source": [
    "# Let's prepare the data and train\n",
    "train_data = (train_text_padded, train_titles_padded)\n",
    "val_data = (val_text_padded, val_titles_padded)\n",
    "num_epochs = 10\n",
    "history = model.fit(train_data, train_truth, epochs=num_epochs, validation_data=(val_data, val_truth), verbose=2)"
   ]
  },
  {
   "cell_type": "code",
   "execution_count": 22,
   "metadata": {},
   "outputs": [
    {
     "data": {
      "image/png": "[encoded data removed]",
      "text/plain": [
       "<Figure size 432x288 with 1 Axes>"
      ]
     },
     "metadata": {
      "needs_background": "light"
     },
     "output_type": "display_data"
    },
    {
     "data": {
      "image/png": "[encoded data removed]",
      "text/plain": [
       "<Figure size 432x288 with 1 Axes>"
      ]
     },
     "metadata": {
      "needs_background": "light"
     },
     "output_type": "display_data"
    }
   ],
   "source": [
    "import matplotlib.pyplot as plt\n",
    "\n",
    "# Some nice plots!\n",
    "\n",
    "def plot_graphs(history, string):\n",
    "  plt.plot(history.history[string])\n",
    "  plt.plot(history.history['val_'+string])\n",
    "  plt.xlabel(\"Epochs\")\n",
    "  plt.ylabel(string)\n",
    "  plt.legend([string, 'val_'+string])\n",
    "  plt.show()\n",
    "  \n",
    "plot_graphs(history, \"accuracy\")\n",
    "plot_graphs(history, \"loss\")"
   ]
  },
  {
   "cell_type": "code",
   "execution_count": 36,
   "metadata": {},
   "outputs": [],
   "source": [
    "def predict(titles, texts, tokenizer=tokenizer, max_length=max_length, max_length_title=max_length_title, trunc_type=trunc_type, padding=padding_type):\n",
    "    text_sequences = tokenizer.texts_to_sequences(texts)\n",
    "    text_padded = pad_sequences(text_sequences, maxlen = max_length, \\\n",
    "                               padding=padding, truncating = trunc_type)\n",
    "    titles_sequences = tokenizer.texts_to_sequences(titles)\n",
    "    titles_padded = pad_sequences(titles_sequences, maxlen = max_length_title, \\\n",
    "                               padding=padding, truncating = trunc_type)\n",
    "    predictions = model.predict((titles_padded, text_padded))\n",
    "    return predictions"
   ]
  },
  {
   "cell_type": "code",
   "execution_count": 50,
   "metadata": {},
   "outputs": [],
   "source": [
    "def accuracy(predictions, actual):\n",
    "    assert len(predictions) == len(actual), \"To compute accuracy, arrays must be same size\"\n",
    "    predictions = np.array(predictions)\n",
    "    actual = np.array(actual)\n",
    "    total_correct = 0.0\n",
    "    for i in range(len(predictions)):\n",
    "        if round(float(predictions[i])) == actual[i]:\n",
    "            total_correct += 1\n",
    "    return total_correct / len(predictions)"
   ]
  },
  {
   "cell_type": "code",
   "execution_count": 52,
   "metadata": {},
   "outputs": [
    {
     "name": "stdout",
     "output_type": "stream",
     "text": [
      "0.7958797327394209\n"
     ]
    }
   ],
   "source": [
    "predictions = predict(test_titles, test_text)\n",
    "print(accuracy(predictions, test_truth))\n",
    "# nearly 80%, not too bad!"
   ]
  },
  {
   "cell_type": "code",
   "execution_count": null,
   "metadata": {},
   "outputs": [],
   "source": [
    "# I used a Kaggle dataset for this project, you can find it at\n",
    "# https://www.kaggle.com/clmentbisaillon/fake-and-real-news-dataset"
   ]
  }
 ],
 "metadata": {
  "kernelspec": {
   "display_name": "Python 3",
   "language": "python",
   "name": "python3"
  },
  "language_info": {
   "codemirror_mode": {
    "name": "ipython",
    "version": 3
   },
   "file_extension": ".py",
   "mimetype": "text/x-python",
   "name": "python",
   "nbconvert_exporter": "python",
   "pygments_lexer": "ipython3",
   "version": "3.8.3"
  }
 },
 "nbformat": 4,
 "nbformat_minor": 4
}
